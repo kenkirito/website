{
 "cells": [
  {
   "cell_type": "markdown",
   "metadata": {},
   "source": [
    "# Gui Features in OpenCV\n",
    "## 1. Getting Started with Images\n",
    "## LOADING , DISPLAYING , AND SAVING"
   ]
  },
  {
   "cell_type": "markdown",
   "metadata": {},
   "source": [
    "### Import cv2"
   ]
  },
  {
   "cell_type": "code",
   "execution_count": null,
   "metadata": {},
   "outputs": [],
   "source": [
    "import cv2"
   ]
  },
  {
   "cell_type": "markdown",
   "metadata": {},
   "source": [
    "### Load an Image"
   ]
  },
  {
   "cell_type": "code",
   "execution_count": null,
   "metadata": {},
   "outputs": [],
   "source": [
    "image = cv2.imread('light.png')\n",
    "'''cv2.imread() takes a single argument which is the path to image'''"
   ]
  },
  {
   "cell_type": "markdown",
   "metadata": {},
   "source": [
    "### Display Image"
   ]
  },
  {
   "cell_type": "code",
   "execution_count": null,
   "metadata": {},
   "outputs": [],
   "source": [
    "cv2.imshow('image', image)\n",
    "cv2.waitKey(0)\n",
    "cv2.destroyAllWindows()\n",
    "'''cv2.imshow() function takes two argument 1) window name 2) Image'''"
   ]
  },
  {
   "cell_type": "markdown",
   "metadata": {},
   "source": [
    "### Saving Image"
   ]
  },
  {
   "cell_type": "code",
   "execution_count": null,
   "metadata": {},
   "outputs": [],
   "source": [
    "cv2.imwrite('newImage.jpg', image)"
   ]
  },
  {
   "cell_type": "markdown",
   "metadata": {},
   "source": [
    "### Convert BGR to Grayscale and RGB"
   ]
  },
  {
   "cell_type": "code",
   "execution_count": null,
   "metadata": {},
   "outputs": [],
   "source": [
    "# Display it\n",
    "gray = cv2.cvtColor(image, cv2.COLOR_BGR2GRAY)\n",
    "\n",
    "cv2.imshow('gray', gray)\n",
    "cv2.waitKey(0)\n",
    "cv2.destroyAllWindows()"
   ]
  },
  {
   "cell_type": "code",
   "execution_count": null,
   "metadata": {},
   "outputs": [],
   "source": [
    "rgb = cv2.cvtColor(image, cv2.COLOR_BGR2RGB)\n",
    "# Display it\n",
    "cv2.imshow('RGB', rgb)\n",
    "cv2.waitKey(0)\n",
    "cv2.destroyAllWindows()"
   ]
  },
  {
   "cell_type": "markdown",
   "metadata": {},
   "source": [
    "### Displaying all together"
   ]
  },
  {
   "cell_type": "code",
   "execution_count": null,
   "metadata": {},
   "outputs": [],
   "source": [
    "cv2.imshow('original', image)\n",
    "cv2.imshow('gray', gray)\n",
    "cv2.imshow('rgb', rgb)\n",
    "cv2.waitKey(0)\n",
    "cv2.destroyAllWindows()"
   ]
  },
  {
   "cell_type": "markdown",
   "metadata": {},
   "source": [
    "### Getting Height, Width and Depth of Image"
   ]
  },
  {
   "cell_type": "code",
   "execution_count": null,
   "metadata": {},
   "outputs": [],
   "source": [
    "image.shape"
   ]
  },
  {
   "cell_type": "code",
   "execution_count": null,
   "metadata": {},
   "outputs": [],
   "source": [
    "'''Getting Height'''\n",
    "h = image.shape[0]\n",
    "\n",
    "'''Getting Width'''\n",
    "w = image.shape[1]\n",
    "\n",
    "'''Getting Depth'''\n",
    "d = image.shape[2]\n",
    "\n",
    "print('The Height, Width and Channles of the Image are : {}, {}, {}'.format(h, w, d))"
   ]
  },
  {
   "cell_type": "code",
   "execution_count": null,
   "metadata": {},
   "outputs": [],
   "source": [
    "gray.shape"
   ]
  },
  {
   "cell_type": "markdown",
   "metadata": {},
   "source": [
    "## 2. Getting Started with Videos"
   ]
  },
  {
   "cell_type": "markdown",
   "metadata": {},
   "source": [
    "### Import cv2"
   ]
  },
  {
   "cell_type": "code",
   "execution_count": null,
   "metadata": {},
   "outputs": [],
   "source": [
    "import cv2"
   ]
  },
  {
   "cell_type": "markdown",
   "metadata": {},
   "source": [
    "### Capture Video from webcam"
   ]
  },
  {
   "cell_type": "code",
   "execution_count": null,
   "metadata": {},
   "outputs": [],
   "source": [
    "video = cv2.VideoCapture(0)\n",
    "''' Cv2 has function VideoCapture which Capture video from Camera\n",
    "    Argument Zero(0) means Capture from Laptop \n",
    "    \n",
    "    Here I am running a True Loop which means Capture till Video is there \n",
    "'''\n",
    "while(True):\n",
    "\tret,frame = video.read()\n",
    "\tcv2.imshow('result', frame)\n",
    "\tcv2.waitKey(1)\n",
    "\tif cv2.waitKey(33) == 27:\n",
    "\t\tbreak\n",
    "''' Here the above two lines means if 'ESC' key is pressed Stop the video\n",
    "'''\n",
    "\n",
    "cv2.destroyAllWindows()\n"
   ]
  },
  {
   "cell_type": "code",
   "execution_count": null,
   "metadata": {},
   "outputs": [],
   "source": [
    "video.release()\n",
    "''' Releasing the Camera\n",
    "'''"
   ]
  },
  {
   "cell_type": "markdown",
   "metadata": {},
   "source": [
    "### Displaying Local Video"
   ]
  },
  {
   "cell_type": "code",
   "execution_count": null,
   "metadata": {},
   "outputs": [],
   "source": [
    "video = cv2.VideoCapture('piper.mp4')\n",
    "''' Cv2 has function VideoCapture which Capture video from Camera\n",
    "    Argument Zero(0) means Capture from Laptop \n",
    "    \n",
    "    Here I am running a True Loop which means Capture till Video is there \n",
    "'''\n",
    "while True:\n",
    "    ret, frame = video.read()\n",
    "    frame = cv2.resize(frame, (600, 400))\n",
    "    cv2.imshow('video', frame)\n",
    "    cv2.waitKey(0)\n",
    "\n",
    "    if cv2.waitKey(33) == 27:\n",
    "        break\n",
    "cv2.destroyAllWindows()"
   ]
  },
  {
   "cell_type": "markdown",
   "metadata": {},
   "source": [
    "## 3. Drawing Functions in OpenCV\n",
    " we can use OpenCV functions to draw different Shapes \n",
    "    like line, rectangle, circle etc"
   ]
  },
  {
   "cell_type": "markdown",
   "metadata": {},
   "source": [
    "### Drawing Line"
   ]
  },
  {
   "cell_type": "code",
   "execution_count": 1,
   "metadata": {},
   "outputs": [],
   "source": [
    "# import packages\n",
    "import cv2\n",
    "import numpy as np\n",
    "import matplotlib.pyplot as plt"
   ]
  },
  {
   "cell_type": "code",
   "execution_count": 2,
   "metadata": {},
   "outputs": [],
   "source": [
    "img = np.zeros((400, 400, 3), dtype = 'uint8')\n",
    "a = img.copy()\n",
    "''' here i have created an image of 400*400 and having 3 channels and\n",
    "    OpenCV datatype = uint8\n",
    "'''\n",
    "cv2.imshow('img', img)\n",
    "cv2.waitKey(0)\n",
    "cv2.destroyAllWindows()"
   ]
  },
  {
   "cell_type": "code",
   "execution_count": 3,
   "metadata": {},
   "outputs": [],
   "source": [
    "line = cv2.line(a, (50,50), (350,350), (0, 0, 255), 3)\n",
    "''' here first argument is img itself then starting x,y ending x,y\n",
    "    after that color and finally thickness \n",
    "'''\n",
    "cv2.imshow('line', line)\n",
    "cv2.waitKey(0)\n",
    "cv2.destroyAllWindows()\n"
   ]
  },
  {
   "cell_type": "code",
   "execution_count": 4,
   "metadata": {},
   "outputs": [],
   "source": [
    "line = cv2.line(a, (50,50), (350,350), (0, 0, 255), 3)\n",
    "line_ = cv2.line(a, (50,350), (350,50), (0, 0, 255), 3)\n",
    "cv2.imshow('a', a)\n",
    "cv2.waitKey(0)\n",
    "cv2.destroyAllWindows()"
   ]
  },
  {
   "cell_type": "markdown",
   "metadata": {},
   "source": [
    "### Drawing Rectangle"
   ]
  },
  {
   "cell_type": "code",
   "execution_count": null,
   "metadata": {},
   "outputs": [],
   "source": [
    "img = np.zeros((400, 400, 3), dtype = 'uint8')\n",
    "\n",
    "b = img.copy()\n",
    "rectangle = cv2.rectangle(b,(50, 50), (350, 350), (0, 0, 255), -1)\n",
    "''' first argument is image, Start position, End position, Color and thickness\n",
    "'''\n",
    "cv2.imshow('b', b)\n",
    "cv2.waitKey(0)\n",
    "cv2.destroyAllWindows()"
   ]
  },
  {
   "cell_type": "markdown",
   "metadata": {},
   "source": [
    "### Drawing Circle"
   ]
  },
  {
   "cell_type": "code",
   "execution_count": 5,
   "metadata": {},
   "outputs": [],
   "source": [
    "c = img.copy()\n",
    "# calculating the  center of img\n",
    "(x, y) = (int(img.shape[1]/2), int(img.shape[0]/2))\n",
    "\n",
    "\n",
    "circle = cv2.circle(c, (x,y), (120), (0, 0, 255), 3)\n",
    "''' first argument is image, center position, radius, color and thickness \n",
    "'''\n",
    "cv2.imshow('c', c)\n",
    "cv2.waitKey(0)\n",
    "cv2.destroyAllWindows()"
   ]
  },
  {
   "cell_type": "markdown",
   "metadata": {},
   "source": [
    "### Combined Together"
   ]
  },
  {
   "cell_type": "code",
   "execution_count": 6,
   "metadata": {},
   "outputs": [],
   "source": [
    "(x, y) = (int(img.shape[1]/2), int(img.shape[0]/2))\n",
    "\n",
    "d = img.copy()\n",
    "\n",
    "line_1 = cv2.line(d, (50,50), (350,350), (0, 0, 255), 3)\n",
    "\n",
    "line_ = cv2.line(d, (50,350), (350,50), (0, 0, 255), 3)\n",
    "\n",
    "rectangle_1 = cv2.rectangle(d,(50, 50), (350, 350), (0, 0, 255), 3)\n",
    "\n",
    "circle_ = cv2.circle(d, (x,y), (60), (0, 0, 255), 3)\n",
    "\n",
    "circle_1 = cv2.circle(d, (x,y), (120), (0, 0, 255), 3)\n",
    "\n",
    "cv2.imshow('combiined', d)\n",
    "cv2.waitKey(0)\n",
    "cv2.destroyAllWindows()"
   ]
  },
  {
   "cell_type": "markdown",
   "metadata": {},
   "source": [
    "## 4. Mouse as a Paint Brush"
   ]
  },
  {
   "cell_type": "code",
   "execution_count": 7,
   "metadata": {},
   "outputs": [],
   "source": [
    "import cv2\n",
    "import numpy as np\n",
    "\n",
    "# mouse callback function\n",
    "def draw_circle(event,x,y,flags,param):\n",
    "    if event == cv2.EVENT_LBUTTONDBLCLK:\n",
    "        cv2.circle(img,(x,y),100,(128, 0, 128),-1)\n",
    "\n",
    "# Create a black image, a window and bind the function to window\n",
    "img = np.zeros((512,512,3), np.uint8)\n",
    "cv2.namedWindow('image')\n",
    "cv2.setMouseCallback('image',draw_circle)\n",
    "\n",
    "while(1):\n",
    "    cv2.imshow('image',img)\n",
    "    if cv2.waitKey(20) & 0xFF == 27:\n",
    "        break\n",
    "cv2.destroyAllWindows()"
   ]
  },
  {
   "cell_type": "code",
   "execution_count": 8,
   "metadata": {},
   "outputs": [],
   "source": [
    "import cv2\n",
    "import numpy as np\n",
    "\n",
    "# mouse callback function\n",
    "def draw_rectangle(event,x,y,flags,param):\n",
    "    if event == cv2.EVENT_LBUTTONDBLCLK:\n",
    "        rectangle_1 = cv2.rectangle(img,(50, 50), (350, 350), (128, 0, 128), -1)\n",
    "\n",
    "# Create a black image, a window and bind the function to window\n",
    "img = np.zeros((512,512,3), np.uint8)\n",
    "cv2.namedWindow('image')\n",
    "cv2.setMouseCallback('image',draw_rectangle)\n",
    "\n",
    "while(1):\n",
    "    cv2.imshow('image',img)\n",
    "    if cv2.waitKey(20) & 0xFF == 27:\n",
    "        break\n",
    "cv2.destroyAllWindows()"
   ]
  },
  {
   "cell_type": "markdown",
   "metadata": {},
   "source": [
    "## Exercises\n",
    "### 1. Display Image using Matplotlib\n",
    "### 2. Reading Video from Webcam and Display it in GrayScale\n",
    "### 3. Create a white image using np.ones and Draw a line, rectange and circle on it\n",
    "### 4. Draw Ellipse and Polygon\n",
    " \n"
   ]
  },
  {
   "cell_type": "code",
   "execution_count": null,
   "metadata": {},
   "outputs": [],
   "source": []
  }
 ],
 "metadata": {
  "kernelspec": {
   "display_name": "Python 3",
   "language": "python",
   "name": "python3"
  },
  "language_info": {
   "codemirror_mode": {
    "name": "ipython",
    "version": 3
   },
   "file_extension": ".py",
   "mimetype": "text/x-python",
   "name": "python",
   "nbconvert_exporter": "python",
   "pygments_lexer": "ipython3",
   "version": "3.8.2"
  }
 },
 "nbformat": 4,
 "nbformat_minor": 4
}
